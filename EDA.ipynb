{
 "cells": [
  {
   "cell_type": "markdown",
   "metadata": {},
   "source": [
    "# Solución prueba técnica para la posición de Data Scientist SHIMOKU "
   ]
  },
  {
   "cell_type": "code",
   "execution_count": 1,
   "metadata": {},
   "outputs": [],
   "source": [
    "import pandas as pd\n",
    "import numpy as np\n",
    "import missingno\n",
    "import matplotlib.pyplot as plt\n",
    "import seaborn as sns"
   ]
  },
  {
   "cell_type": "code",
   "execution_count": 2,
   "metadata": {},
   "outputs": [],
   "source": [
    "%run pandas-missing-extension.ipynb"
   ]
  },
  {
   "cell_type": "markdown",
   "metadata": {},
   "source": [
    "Se carga el dataset **leads**"
   ]
  },
  {
   "cell_type": "code",
   "execution_count": 3,
   "metadata": {},
   "outputs": [],
   "source": [
    "string_dict = {key: 'str' for key in ['Id', 'First Name', 'Discarded/Nurturing Reason']}\n",
    "cat_dict = {key: 'category' for key in ['Use Case', 'Source', 'Status', 'Acquisition Campaign', 'City']}\n",
    "float_dict = {key: 'float64' for key in ['Converted']}\n",
    "date_cols = ['Created Date']\n",
    "\n",
    "dtype_dict = string_dict | cat_dict | float_dict\n",
    "\n",
    "# Se cargan el dataset leads\n",
    "leads_df = pd.read_csv('leads.csv', dtype=dtype_dict, parse_dates=date_cols)"
   ]
  },
  {
   "cell_type": "markdown",
   "metadata": {},
   "source": [
    "Se carga el dataset **offers**"
   ]
  },
  {
   "cell_type": "code",
   "execution_count": 4,
   "metadata": {},
   "outputs": [],
   "source": [
    "string_dict = {key: 'str' for key in ['Id', 'Discount code', 'Loss Reason']}\n",
    "cat_dict = {key: 'category' for key in ['Use Case', 'Status', 'Pain']}\n",
    "float_dict = {key: 'float64' for key in ['Price']}\n",
    "date_cols = ['Created Date', 'Close Date']\n",
    "\n",
    "dtype_dict = string_dict | cat_dict | float_dict\n",
    "\n",
    "# Se cargan el dataset offers\n",
    "offers_df = pd.read_csv('offers.csv', dtype=dtype_dict, parse_dates=date_cols)"
   ]
  },
  {
   "cell_type": "markdown",
   "metadata": {},
   "source": [
    "### Primeras filas del dataset leads"
   ]
  },
  {
   "cell_type": "code",
   "execution_count": 5,
   "metadata": {},
   "outputs": [
    {
     "data": {
      "text/html": [
       "<div>\n",
       "<style scoped>\n",
       "    .dataframe tbody tr th:only-of-type {\n",
       "        vertical-align: middle;\n",
       "    }\n",
       "\n",
       "    .dataframe tbody tr th {\n",
       "        vertical-align: top;\n",
       "    }\n",
       "\n",
       "    .dataframe thead th {\n",
       "        text-align: right;\n",
       "    }\n",
       "</style>\n",
       "<table border=\"1\" class=\"dataframe\">\n",
       "  <thead>\n",
       "    <tr style=\"text-align: right;\">\n",
       "      <th></th>\n",
       "      <th>Id</th>\n",
       "      <th>First Name</th>\n",
       "      <th>Use Case</th>\n",
       "      <th>Source</th>\n",
       "      <th>Status</th>\n",
       "      <th>Discarded/Nurturing Reason</th>\n",
       "      <th>Acquisition Campaign</th>\n",
       "      <th>Created Date</th>\n",
       "      <th>Converted</th>\n",
       "      <th>City</th>\n",
       "    </tr>\n",
       "  </thead>\n",
       "  <tbody>\n",
       "    <tr>\n",
       "      <th>0</th>\n",
       "      <td>23okrabh</td>\n",
       "      <td>NaN</td>\n",
       "      <td>Corporate Events</td>\n",
       "      <td>Inbound</td>\n",
       "      <td>Nurturing</td>\n",
       "      <td>Not Fit</td>\n",
       "      <td>NaN</td>\n",
       "      <td>2018-05-26</td>\n",
       "      <td>0.0</td>\n",
       "      <td>Chicago</td>\n",
       "    </tr>\n",
       "    <tr>\n",
       "      <th>1</th>\n",
       "      <td>NaN</td>\n",
       "      <td>Taylor1 Harris1</td>\n",
       "      <td>NaN</td>\n",
       "      <td>Inbound</td>\n",
       "      <td>Discarded</td>\n",
       "      <td>Not feeling</td>\n",
       "      <td>Event Management Guide</td>\n",
       "      <td>2018-10-17</td>\n",
       "      <td>0.0</td>\n",
       "      <td>Denver</td>\n",
       "    </tr>\n",
       "    <tr>\n",
       "      <th>2</th>\n",
       "      <td>hbzt0kp1</td>\n",
       "      <td>Alex6 Jackson3</td>\n",
       "      <td>NaN</td>\n",
       "      <td>Inbound</td>\n",
       "      <td>Nurturing</td>\n",
       "      <td>Competitor</td>\n",
       "      <td>NaN</td>\n",
       "      <td>2019-03-29</td>\n",
       "      <td>0.0</td>\n",
       "      <td>Denver</td>\n",
       "    </tr>\n",
       "    <tr>\n",
       "      <th>3</th>\n",
       "      <td>velluwdq</td>\n",
       "      <td>Bailey2 Taylor6</td>\n",
       "      <td>Corporate Events</td>\n",
       "      <td>Inbound</td>\n",
       "      <td>Discarded</td>\n",
       "      <td>Not Target</td>\n",
       "      <td>NaN</td>\n",
       "      <td>2018-05-26</td>\n",
       "      <td>0.0</td>\n",
       "      <td>NaN</td>\n",
       "    </tr>\n",
       "    <tr>\n",
       "      <th>4</th>\n",
       "      <td>NaN</td>\n",
       "      <td>Drew5 Wilson5</td>\n",
       "      <td>Corporate Events</td>\n",
       "      <td>Inbound</td>\n",
       "      <td>Nurturing</td>\n",
       "      <td>Competitor</td>\n",
       "      <td>NaN</td>\n",
       "      <td>2018-10-17</td>\n",
       "      <td>0.0</td>\n",
       "      <td>NaN</td>\n",
       "    </tr>\n",
       "  </tbody>\n",
       "</table>\n",
       "</div>"
      ],
      "text/plain": [
       "         Id       First Name          Use Case   Source     Status  \\\n",
       "0  23okrabh              NaN  Corporate Events  Inbound  Nurturing   \n",
       "1       NaN  Taylor1 Harris1               NaN  Inbound  Discarded   \n",
       "2  hbzt0kp1   Alex6 Jackson3               NaN  Inbound  Nurturing   \n",
       "3  velluwdq  Bailey2 Taylor6  Corporate Events  Inbound  Discarded   \n",
       "4       NaN    Drew5 Wilson5  Corporate Events  Inbound  Nurturing   \n",
       "\n",
       "  Discarded/Nurturing Reason    Acquisition Campaign Created Date  Converted  \\\n",
       "0                    Not Fit                     NaN   2018-05-26        0.0   \n",
       "1                Not feeling  Event Management Guide   2018-10-17        0.0   \n",
       "2                 Competitor                     NaN   2019-03-29        0.0   \n",
       "3                 Not Target                     NaN   2018-05-26        0.0   \n",
       "4                 Competitor                     NaN   2018-10-17        0.0   \n",
       "\n",
       "      City  \n",
       "0  Chicago  \n",
       "1   Denver  \n",
       "2   Denver  \n",
       "3      NaN  \n",
       "4      NaN  "
      ]
     },
     "execution_count": 5,
     "metadata": {},
     "output_type": "execute_result"
    }
   ],
   "source": [
    "leads_df.head()"
   ]
  },
  {
   "cell_type": "markdown",
   "metadata": {},
   "source": [
    "### Primeras filas del dataset offers"
   ]
  },
  {
   "cell_type": "code",
   "execution_count": 6,
   "metadata": {},
   "outputs": [
    {
     "data": {
      "text/html": [
       "<div>\n",
       "<style scoped>\n",
       "    .dataframe tbody tr th:only-of-type {\n",
       "        vertical-align: middle;\n",
       "    }\n",
       "\n",
       "    .dataframe tbody tr th {\n",
       "        vertical-align: top;\n",
       "    }\n",
       "\n",
       "    .dataframe thead th {\n",
       "        text-align: right;\n",
       "    }\n",
       "</style>\n",
       "<table border=\"1\" class=\"dataframe\">\n",
       "  <thead>\n",
       "    <tr style=\"text-align: right;\">\n",
       "      <th></th>\n",
       "      <th>Id</th>\n",
       "      <th>Use Case</th>\n",
       "      <th>Status</th>\n",
       "      <th>Created Date</th>\n",
       "      <th>Close Date</th>\n",
       "      <th>Price</th>\n",
       "      <th>Discount code</th>\n",
       "      <th>Pain</th>\n",
       "      <th>Loss Reason</th>\n",
       "    </tr>\n",
       "  </thead>\n",
       "  <tbody>\n",
       "    <tr>\n",
       "      <th>0</th>\n",
       "      <td>doqyhjtv</td>\n",
       "      <td>Educational Seminars</td>\n",
       "      <td>Closed Won</td>\n",
       "      <td>2019-11-17</td>\n",
       "      <td>2019-11-17</td>\n",
       "      <td>300.0</td>\n",
       "      <td>SAVEMORE50</td>\n",
       "      <td>operations</td>\n",
       "      <td>NaN</td>\n",
       "    </tr>\n",
       "    <tr>\n",
       "      <th>1</th>\n",
       "      <td>NaN</td>\n",
       "      <td>Sports Events</td>\n",
       "      <td>Closed Lost</td>\n",
       "      <td>2019-11-24</td>\n",
       "      <td>2019-11-25</td>\n",
       "      <td>150.0</td>\n",
       "      <td>NaN</td>\n",
       "      <td>operations</td>\n",
       "      <td>price</td>\n",
       "    </tr>\n",
       "    <tr>\n",
       "      <th>2</th>\n",
       "      <td>NaN</td>\n",
       "      <td>Sports Events</td>\n",
       "      <td>Closed Lost</td>\n",
       "      <td>2019-11-24</td>\n",
       "      <td>2019-11-25</td>\n",
       "      <td>768.0</td>\n",
       "      <td>HALFYEAR20G</td>\n",
       "      <td>operations</td>\n",
       "      <td>no response</td>\n",
       "    </tr>\n",
       "    <tr>\n",
       "      <th>3</th>\n",
       "      <td>cturqi48</td>\n",
       "      <td>Corporate Events</td>\n",
       "      <td>Closed Won</td>\n",
       "      <td>2019-05-07</td>\n",
       "      <td>2019-05-07</td>\n",
       "      <td>240.0</td>\n",
       "      <td>DISCOUNT50POWER</td>\n",
       "      <td>financial control</td>\n",
       "      <td>NaN</td>\n",
       "    </tr>\n",
       "    <tr>\n",
       "      <th>4</th>\n",
       "      <td>NaN</td>\n",
       "      <td>Sports Events</td>\n",
       "      <td>Closed Lost</td>\n",
       "      <td>2019-11-17</td>\n",
       "      <td>2019-11-25</td>\n",
       "      <td>240.0</td>\n",
       "      <td>SAVEMONTH50G</td>\n",
       "      <td>financial control</td>\n",
       "      <td>no response</td>\n",
       "    </tr>\n",
       "  </tbody>\n",
       "</table>\n",
       "</div>"
      ],
      "text/plain": [
       "         Id              Use Case       Status Created Date Close Date  Price  \\\n",
       "0  doqyhjtv  Educational Seminars   Closed Won   2019-11-17 2019-11-17  300.0   \n",
       "1       NaN         Sports Events  Closed Lost   2019-11-24 2019-11-25  150.0   \n",
       "2       NaN         Sports Events  Closed Lost   2019-11-24 2019-11-25  768.0   \n",
       "3  cturqi48      Corporate Events   Closed Won   2019-05-07 2019-05-07  240.0   \n",
       "4       NaN         Sports Events  Closed Lost   2019-11-17 2019-11-25  240.0   \n",
       "\n",
       "     Discount code               Pain  Loss Reason  \n",
       "0       SAVEMORE50         operations          NaN  \n",
       "1              NaN         operations        price  \n",
       "2      HALFYEAR20G         operations  no response  \n",
       "3  DISCOUNT50POWER  financial control          NaN  \n",
       "4     SAVEMONTH50G  financial control  no response  "
      ]
     },
     "execution_count": 6,
     "metadata": {},
     "output_type": "execute_result"
    }
   ],
   "source": [
    "offers_df.head()"
   ]
  },
  {
   "cell_type": "markdown",
   "metadata": {},
   "source": [
    "Vemos que en ambos datasets la columna Id contiene valores nulos. Sin embargo, nuestra variable objetivo se encuentra en el dataset offers, por lo que vamos a prescindir de los registros del dataset leads que no cuenten con un Id no nulo que nos permita conectarlos con algun registro en la tabla offers. También vemos que en ambos conjuntos tenemos la variable **Use Case** que nos indica el caso de uso que el cliente requiere del servicio, por lo que será suficiente mantener la columna **Use Case** del conjunto offers."
   ]
  },
  {
   "cell_type": "code",
   "execution_count": 7,
   "metadata": {},
   "outputs": [
    {
     "data": {
      "text/plain": [
       "61639"
      ]
     },
     "execution_count": 7,
     "metadata": {},
     "output_type": "execute_result"
    }
   ],
   "source": [
    "# Se eliminan la columna 'Use Case' del dataset leads\n",
    "leads_df.drop(columns=['Use Case'], axis=1, inplace=True)\n",
    "len(leads_df)"
   ]
  },
  {
   "cell_type": "markdown",
   "metadata": {},
   "source": [
    "Antes de realizar el merge entre offers y leads debemos vamos a retirar de leads los registros con **Id's** nulos ya que se encontrarían consistencias entre **Id's** nulos de ambas tablas."
   ]
  },
  {
   "cell_type": "code",
   "execution_count": 8,
   "metadata": {},
   "outputs": [
    {
     "data": {
      "text/plain": [
       "0.6200652528548124"
      ]
     },
     "execution_count": 8,
     "metadata": {},
     "output_type": "execute_result"
    }
   ],
   "source": [
    "leads_df.dropna(subset=['Id'], inplace=True)\n",
    "# Encontrar los índices en offers_df que están en leads_df\n",
    "len(offers_df[offers_df['Id'].isin(leads_df['Id'])])/len(offers_df)"
   ]
  },
  {
   "cell_type": "markdown",
   "metadata": {},
   "source": [
    "El 62% de los **id's** no nulos de **offers** se encuentran también en **leads**. Verifiquemos también si existen duplicados en las columnas **Id's** o **First Name** de la tabla **leads**."
   ]
  },
  {
   "cell_type": "code",
   "execution_count": 9,
   "metadata": {},
   "outputs": [
    {
     "name": "stdout",
     "output_type": "stream",
     "text": [
      "-- Duplicates in the Leads dataframe --\n",
      "duplicated ids:  0\n",
      "duplicated names:  0\n"
     ]
    }
   ],
   "source": [
    "# Revisamos si existen Id's o nombres duplicados en 'leads'\n",
    "print(\"-- Duplicates in the Leads dataframe --\")\n",
    "print('duplicated ids: ', sum(leads_df['Id'].value_counts()>1))\n",
    "print('duplicated names: ', sum(leads_df['First Name'].value_counts()>1))"
   ]
  },
  {
   "cell_type": "markdown",
   "metadata": {},
   "source": [
    "Vemos que no existen Id's ni nombres duplicados en leads. Ahora podemos crear el dataset único que contenga la información de ambas tablas."
   ]
  },
  {
   "cell_type": "code",
   "execution_count": 10,
   "metadata": {},
   "outputs": [
    {
     "name": "stdout",
     "output_type": "stream",
     "text": [
      "Columns:  6130\n"
     ]
    },
    {
     "data": {
      "text/html": [
       "<div>\n",
       "<style scoped>\n",
       "    .dataframe tbody tr th:only-of-type {\n",
       "        vertical-align: middle;\n",
       "    }\n",
       "\n",
       "    .dataframe tbody tr th {\n",
       "        vertical-align: top;\n",
       "    }\n",
       "\n",
       "    .dataframe thead th {\n",
       "        text-align: right;\n",
       "    }\n",
       "</style>\n",
       "<table border=\"1\" class=\"dataframe\">\n",
       "  <thead>\n",
       "    <tr style=\"text-align: right;\">\n",
       "      <th></th>\n",
       "      <th>Id</th>\n",
       "      <th>First Name</th>\n",
       "      <th>Source</th>\n",
       "      <th>Status (leads)</th>\n",
       "      <th>Discarded/Nurturing Reason</th>\n",
       "      <th>Acquisition Campaign</th>\n",
       "      <th>Created Date (leads)</th>\n",
       "      <th>Converted</th>\n",
       "      <th>City</th>\n",
       "      <th>Use Case</th>\n",
       "      <th>Status (offers)</th>\n",
       "      <th>Created Date (offers)</th>\n",
       "      <th>Close Date</th>\n",
       "      <th>Price</th>\n",
       "      <th>Discount code</th>\n",
       "      <th>Pain</th>\n",
       "      <th>Loss Reason</th>\n",
       "    </tr>\n",
       "  </thead>\n",
       "  <tbody>\n",
       "    <tr>\n",
       "      <th>0</th>\n",
       "      <td>doqyhjtv</td>\n",
       "      <td>NaN</td>\n",
       "      <td>NaN</td>\n",
       "      <td>NaN</td>\n",
       "      <td>NaN</td>\n",
       "      <td>NaN</td>\n",
       "      <td>NaT</td>\n",
       "      <td>NaN</td>\n",
       "      <td>NaN</td>\n",
       "      <td>Educational Seminars</td>\n",
       "      <td>Closed Won</td>\n",
       "      <td>2019-11-17</td>\n",
       "      <td>2019-11-17</td>\n",
       "      <td>300.0</td>\n",
       "      <td>SAVEMORE50</td>\n",
       "      <td>operations</td>\n",
       "      <td>NaN</td>\n",
       "    </tr>\n",
       "    <tr>\n",
       "      <th>1</th>\n",
       "      <td>NaN</td>\n",
       "      <td>NaN</td>\n",
       "      <td>NaN</td>\n",
       "      <td>NaN</td>\n",
       "      <td>NaN</td>\n",
       "      <td>NaN</td>\n",
       "      <td>NaT</td>\n",
       "      <td>NaN</td>\n",
       "      <td>NaN</td>\n",
       "      <td>Sports Events</td>\n",
       "      <td>Closed Lost</td>\n",
       "      <td>2019-11-24</td>\n",
       "      <td>2019-11-25</td>\n",
       "      <td>150.0</td>\n",
       "      <td>NaN</td>\n",
       "      <td>operations</td>\n",
       "      <td>price</td>\n",
       "    </tr>\n",
       "    <tr>\n",
       "      <th>2</th>\n",
       "      <td>NaN</td>\n",
       "      <td>NaN</td>\n",
       "      <td>NaN</td>\n",
       "      <td>NaN</td>\n",
       "      <td>NaN</td>\n",
       "      <td>NaN</td>\n",
       "      <td>NaT</td>\n",
       "      <td>NaN</td>\n",
       "      <td>NaN</td>\n",
       "      <td>Sports Events</td>\n",
       "      <td>Closed Lost</td>\n",
       "      <td>2019-11-24</td>\n",
       "      <td>2019-11-25</td>\n",
       "      <td>768.0</td>\n",
       "      <td>HALFYEAR20G</td>\n",
       "      <td>operations</td>\n",
       "      <td>no response</td>\n",
       "    </tr>\n",
       "    <tr>\n",
       "      <th>3</th>\n",
       "      <td>cturqi48</td>\n",
       "      <td>Taylor18 Wilson3</td>\n",
       "      <td>Inbound</td>\n",
       "      <td>Qualified</td>\n",
       "      <td>NaN</td>\n",
       "      <td>VirtualMeetups</td>\n",
       "      <td>2019-05-07</td>\n",
       "      <td>1.0</td>\n",
       "      <td>San Diego</td>\n",
       "      <td>Corporate Events</td>\n",
       "      <td>Closed Won</td>\n",
       "      <td>2019-05-07</td>\n",
       "      <td>2019-05-07</td>\n",
       "      <td>240.0</td>\n",
       "      <td>DISCOUNT50POWER</td>\n",
       "      <td>financial control</td>\n",
       "      <td>NaN</td>\n",
       "    </tr>\n",
       "    <tr>\n",
       "      <th>4</th>\n",
       "      <td>NaN</td>\n",
       "      <td>NaN</td>\n",
       "      <td>NaN</td>\n",
       "      <td>NaN</td>\n",
       "      <td>NaN</td>\n",
       "      <td>NaN</td>\n",
       "      <td>NaT</td>\n",
       "      <td>NaN</td>\n",
       "      <td>NaN</td>\n",
       "      <td>Sports Events</td>\n",
       "      <td>Closed Lost</td>\n",
       "      <td>2019-11-17</td>\n",
       "      <td>2019-11-25</td>\n",
       "      <td>240.0</td>\n",
       "      <td>SAVEMONTH50G</td>\n",
       "      <td>financial control</td>\n",
       "      <td>no response</td>\n",
       "    </tr>\n",
       "  </tbody>\n",
       "</table>\n",
       "</div>"
      ],
      "text/plain": [
       "         Id        First Name   Source Status (leads)  \\\n",
       "0  doqyhjtv               NaN      NaN            NaN   \n",
       "1       NaN               NaN      NaN            NaN   \n",
       "2       NaN               NaN      NaN            NaN   \n",
       "3  cturqi48  Taylor18 Wilson3  Inbound      Qualified   \n",
       "4       NaN               NaN      NaN            NaN   \n",
       "\n",
       "  Discarded/Nurturing Reason Acquisition Campaign Created Date (leads)  \\\n",
       "0                        NaN                  NaN                  NaT   \n",
       "1                        NaN                  NaN                  NaT   \n",
       "2                        NaN                  NaN                  NaT   \n",
       "3                        NaN       VirtualMeetups           2019-05-07   \n",
       "4                        NaN                  NaN                  NaT   \n",
       "\n",
       "   Converted       City              Use Case Status (offers)  \\\n",
       "0        NaN        NaN  Educational Seminars      Closed Won   \n",
       "1        NaN        NaN         Sports Events     Closed Lost   \n",
       "2        NaN        NaN         Sports Events     Closed Lost   \n",
       "3        1.0  San Diego      Corporate Events      Closed Won   \n",
       "4        NaN        NaN         Sports Events     Closed Lost   \n",
       "\n",
       "  Created Date (offers) Close Date  Price    Discount code               Pain  \\\n",
       "0            2019-11-17 2019-11-17  300.0       SAVEMORE50         operations   \n",
       "1            2019-11-24 2019-11-25  150.0              NaN         operations   \n",
       "2            2019-11-24 2019-11-25  768.0      HALFYEAR20G         operations   \n",
       "3            2019-05-07 2019-05-07  240.0  DISCOUNT50POWER  financial control   \n",
       "4            2019-11-17 2019-11-25  240.0     SAVEMONTH50G  financial control   \n",
       "\n",
       "   Loss Reason  \n",
       "0          NaN  \n",
       "1        price  \n",
       "2  no response  \n",
       "3          NaN  \n",
       "4  no response  "
      ]
     },
     "execution_count": 10,
     "metadata": {},
     "output_type": "execute_result"
    }
   ],
   "source": [
    "# Merge de los dataframes df_merged y df_leads\n",
    "df_merged = pd.merge(leads_df, offers_df, on='Id', how='right', suffixes=(' (leads)', ' (offers)'))\n",
    "print('Columns: ', len(df_merged))\n",
    "df_merged.head()"
   ]
  },
  {
   "cell_type": "markdown",
   "metadata": {},
   "source": [
    "Como se aprecia a continuación, hay algunos registros en donde el cliente desistió de adquirir el servicio por el precio pero el precio es cero, esto parece una inconsistencia, pero ya que no tenemos evidencia de que sea un error no debemos modificar estos valores. Si llegase a ser un error esperamos que el modelo de predicción no se vea afectado ya que son muy pocos los registros que cumplen esta condición."
   ]
  },
  {
   "cell_type": "code",
   "execution_count": 11,
   "metadata": {},
   "outputs": [
    {
     "data": {
      "text/plain": [
       "11"
      ]
     },
     "execution_count": 11,
     "metadata": {},
     "output_type": "execute_result"
    }
   ],
   "source": [
    "# Cantidad de registros con precio 0.0 y con 'Loss Reason' iguala 'price'\n",
    "len(offers_df[(offers_df['Price']==0) & (offers_df['Loss Reason']=='price')])"
   ]
  },
  {
   "cell_type": "code",
   "execution_count": 12,
   "metadata": {},
   "outputs": [
    {
     "data": {
      "text/plain": [
       "60"
      ]
     },
     "execution_count": 12,
     "metadata": {},
     "output_type": "execute_result"
    }
   ],
   "source": [
    "# Cantidad de registros con precio 0.0 y con código de descuento\n",
    "len(offers_df[(offers_df['Price']==0) & (~offers_df['Discount code'].isnull())])"
   ]
  },
  {
   "cell_type": "code",
   "execution_count": 13,
   "metadata": {},
   "outputs": [
    {
     "data": {
      "text/plain": [
       "Id                            19.053834\n",
       "First Name                    51.517129\n",
       "Source                        38.026101\n",
       "Status (leads)                37.993475\n",
       "Discarded/Nurturing Reason    99.461664\n",
       "Acquisition Campaign          82.985318\n",
       "Created Date (leads)          37.993475\n",
       "Converted                     37.993475\n",
       "City                          58.874388\n",
       "Use Case                       0.603589\n",
       "Status (offers)                0.000000\n",
       "Created Date (offers)          0.000000\n",
       "Close Date                     0.000000\n",
       "Price                          5.954323\n",
       "Discount code                 27.716150\n",
       "Pain                          14.176183\n",
       "Loss Reason                   61.435563\n",
       "dtype: float64"
      ]
     },
     "execution_count": 13,
     "metadata": {},
     "output_type": "execute_result"
    }
   ],
   "source": [
    "df_merged.isnull().sum()/len(df_merged)*100"
   ]
  },
  {
   "cell_type": "code",
   "execution_count": 14,
   "metadata": {},
   "outputs": [
    {
     "data": {
      "image/png": "[encoded data removed]",
      "text/plain": [
       "<Figure size 2500x1000 with 2 Axes>"
      ]
     },
     "metadata": {},
     "output_type": "display_data"
    }
   ],
   "source": [
    "missingno.matrix(df=df_merged)\n",
    "plt.show()"
   ]
  },
  {
   "cell_type": "markdown",
   "metadata": {},
   "source": [
    "#### Proporción de registros nulos en la columna 'Discarded/Nurturing Reason'"
   ]
  },
  {
   "cell_type": "code",
   "execution_count": 15,
   "metadata": {},
   "outputs": [
    {
     "data": {
      "text/plain": [
       "0.9946166394779772"
      ]
     },
     "execution_count": 15,
     "metadata": {},
     "output_type": "execute_result"
    }
   ],
   "source": [
    "df_merged['Discarded/Nurturing Reason'].isnull().sum()/len(df_merged)"
   ]
  },
  {
   "cell_type": "markdown",
   "metadata": {},
   "source": [
    "#### Proporción de filas en las que **Converted** es no núlo y además su valor es 1.0"
   ]
  },
  {
   "cell_type": "code",
   "execution_count": 16,
   "metadata": {},
   "outputs": [
    {
     "data": {
      "text/plain": [
       "0.9957905814259406"
      ]
     },
     "execution_count": 16,
     "metadata": {},
     "output_type": "execute_result"
    }
   ],
   "source": [
    "# print(df_merged['Converted'].value_counts()/len(df_merged)*100)\n",
    "len(df_merged[df_merged['Converted']==1])/(~df_merged['Converted'].isnull()).sum()"
   ]
  },
  {
   "cell_type": "code",
   "execution_count": 17,
   "metadata": {},
   "outputs": [
    {
     "data": {
      "text/plain": [
       "6"
      ]
     },
     "execution_count": 17,
     "metadata": {},
     "output_type": "execute_result"
    }
   ],
   "source": [
    "len(df_merged[(df_merged['Status (offers)']=='Closed Won') & (df_merged['Loss Reason'])])"
   ]
  },
  {
   "cell_type": "markdown",
   "metadata": {},
   "source": [
    "En este caso vemos que solo se encuentran 6 registros con la anterior inconsistencia. En este caso no conocemos una manera de determinar si el error se encuentra en la columna 'Loss Reason' o en la columna 'Status'. Por lo que optamos por descartar estos registros. En el caso en que se tuvieran muchos más registros con esta condición descartar estos valores no sería adecuado."
   ]
  },
  {
   "cell_type": "code",
   "execution_count": 18,
   "metadata": {},
   "outputs": [
    {
     "data": {
      "text/html": [
       "<div>\n",
       "<style scoped>\n",
       "    .dataframe tbody tr th:only-of-type {\n",
       "        vertical-align: middle;\n",
       "    }\n",
       "\n",
       "    .dataframe tbody tr th {\n",
       "        vertical-align: top;\n",
       "    }\n",
       "\n",
       "    .dataframe thead th {\n",
       "        text-align: right;\n",
       "    }\n",
       "</style>\n",
       "<table border=\"1\" class=\"dataframe\">\n",
       "  <thead>\n",
       "    <tr style=\"text-align: right;\">\n",
       "      <th></th>\n",
       "      <th>Id</th>\n",
       "      <th>First Name</th>\n",
       "      <th>Source</th>\n",
       "      <th>Status (leads)</th>\n",
       "      <th>Discarded/Nurturing Reason</th>\n",
       "      <th>Acquisition Campaign</th>\n",
       "      <th>Created Date (leads)</th>\n",
       "      <th>Converted</th>\n",
       "      <th>City</th>\n",
       "      <th>Use Case</th>\n",
       "      <th>Status (offers)</th>\n",
       "      <th>Created Date (offers)</th>\n",
       "      <th>Close Date</th>\n",
       "      <th>Price</th>\n",
       "      <th>Discount code</th>\n",
       "      <th>Pain</th>\n",
       "      <th>Loss Reason</th>\n",
       "    </tr>\n",
       "  </thead>\n",
       "  <tbody>\n",
       "    <tr>\n",
       "      <th>0</th>\n",
       "      <td>doqyhjtv</td>\n",
       "      <td>NaN</td>\n",
       "      <td>NaN</td>\n",
       "      <td>NaN</td>\n",
       "      <td>NaN</td>\n",
       "      <td>NaN</td>\n",
       "      <td>NaT</td>\n",
       "      <td>NaN</td>\n",
       "      <td>NaN</td>\n",
       "      <td>Educational Seminars</td>\n",
       "      <td>Closed Won</td>\n",
       "      <td>2019-11-17</td>\n",
       "      <td>2019-11-17</td>\n",
       "      <td>300.0</td>\n",
       "      <td>SAVEMORE50</td>\n",
       "      <td>operations</td>\n",
       "      <td>NaN</td>\n",
       "    </tr>\n",
       "    <tr>\n",
       "      <th>1</th>\n",
       "      <td>NaN</td>\n",
       "      <td>NaN</td>\n",
       "      <td>NaN</td>\n",
       "      <td>NaN</td>\n",
       "      <td>NaN</td>\n",
       "      <td>NaN</td>\n",
       "      <td>NaT</td>\n",
       "      <td>NaN</td>\n",
       "      <td>NaN</td>\n",
       "      <td>Sports Events</td>\n",
       "      <td>Closed Lost</td>\n",
       "      <td>2019-11-24</td>\n",
       "      <td>2019-11-25</td>\n",
       "      <td>150.0</td>\n",
       "      <td>NaN</td>\n",
       "      <td>operations</td>\n",
       "      <td>price</td>\n",
       "    </tr>\n",
       "    <tr>\n",
       "      <th>2</th>\n",
       "      <td>NaN</td>\n",
       "      <td>NaN</td>\n",
       "      <td>NaN</td>\n",
       "      <td>NaN</td>\n",
       "      <td>NaN</td>\n",
       "      <td>NaN</td>\n",
       "      <td>NaT</td>\n",
       "      <td>NaN</td>\n",
       "      <td>NaN</td>\n",
       "      <td>Sports Events</td>\n",
       "      <td>Closed Lost</td>\n",
       "      <td>2019-11-24</td>\n",
       "      <td>2019-11-25</td>\n",
       "      <td>768.0</td>\n",
       "      <td>HALFYEAR20G</td>\n",
       "      <td>operations</td>\n",
       "      <td>no response</td>\n",
       "    </tr>\n",
       "    <tr>\n",
       "      <th>3</th>\n",
       "      <td>cturqi48</td>\n",
       "      <td>Taylor18 Wilson3</td>\n",
       "      <td>Inbound</td>\n",
       "      <td>Qualified</td>\n",
       "      <td>NaN</td>\n",
       "      <td>VirtualMeetups</td>\n",
       "      <td>2019-05-07</td>\n",
       "      <td>1.0</td>\n",
       "      <td>San Diego</td>\n",
       "      <td>Corporate Events</td>\n",
       "      <td>Closed Won</td>\n",
       "      <td>2019-05-07</td>\n",
       "      <td>2019-05-07</td>\n",
       "      <td>240.0</td>\n",
       "      <td>DISCOUNT50POWER</td>\n",
       "      <td>financial control</td>\n",
       "      <td>NaN</td>\n",
       "    </tr>\n",
       "    <tr>\n",
       "      <th>4</th>\n",
       "      <td>NaN</td>\n",
       "      <td>NaN</td>\n",
       "      <td>NaN</td>\n",
       "      <td>NaN</td>\n",
       "      <td>NaN</td>\n",
       "      <td>NaN</td>\n",
       "      <td>NaT</td>\n",
       "      <td>NaN</td>\n",
       "      <td>NaN</td>\n",
       "      <td>Sports Events</td>\n",
       "      <td>Closed Lost</td>\n",
       "      <td>2019-11-17</td>\n",
       "      <td>2019-11-25</td>\n",
       "      <td>240.0</td>\n",
       "      <td>SAVEMONTH50G</td>\n",
       "      <td>financial control</td>\n",
       "      <td>no response</td>\n",
       "    </tr>\n",
       "  </tbody>\n",
       "</table>\n",
       "</div>"
      ],
      "text/plain": [
       "         Id        First Name   Source Status (leads)  \\\n",
       "0  doqyhjtv               NaN      NaN            NaN   \n",
       "1       NaN               NaN      NaN            NaN   \n",
       "2       NaN               NaN      NaN            NaN   \n",
       "3  cturqi48  Taylor18 Wilson3  Inbound      Qualified   \n",
       "4       NaN               NaN      NaN            NaN   \n",
       "\n",
       "  Discarded/Nurturing Reason Acquisition Campaign Created Date (leads)  \\\n",
       "0                        NaN                  NaN                  NaT   \n",
       "1                        NaN                  NaN                  NaT   \n",
       "2                        NaN                  NaN                  NaT   \n",
       "3                        NaN       VirtualMeetups           2019-05-07   \n",
       "4                        NaN                  NaN                  NaT   \n",
       "\n",
       "   Converted       City              Use Case Status (offers)  \\\n",
       "0        NaN        NaN  Educational Seminars      Closed Won   \n",
       "1        NaN        NaN         Sports Events     Closed Lost   \n",
       "2        NaN        NaN         Sports Events     Closed Lost   \n",
       "3        1.0  San Diego      Corporate Events      Closed Won   \n",
       "4        NaN        NaN         Sports Events     Closed Lost   \n",
       "\n",
       "  Created Date (offers) Close Date  Price    Discount code               Pain  \\\n",
       "0            2019-11-17 2019-11-17  300.0       SAVEMORE50         operations   \n",
       "1            2019-11-24 2019-11-25  150.0              NaN         operations   \n",
       "2            2019-11-24 2019-11-25  768.0      HALFYEAR20G         operations   \n",
       "3            2019-05-07 2019-05-07  240.0  DISCOUNT50POWER  financial control   \n",
       "4            2019-11-17 2019-11-25  240.0     SAVEMONTH50G  financial control   \n",
       "\n",
       "   Loss Reason  \n",
       "0          NaN  \n",
       "1        price  \n",
       "2  no response  \n",
       "3          NaN  \n",
       "4  no response  "
      ]
     },
     "execution_count": 18,
     "metadata": {},
     "output_type": "execute_result"
    }
   ],
   "source": [
    "# Borramos filas donde status es \"closed won\" pero tiene \"loss reason\"\n",
    "df_merged.drop(df_merged[(df_merged['Status (offers)']=='Closed Won') & (df_merged['Loss Reason'].notna())].index, inplace=True)\n",
    "df_merged.head()"
   ]
  },
  {
   "cell_type": "markdown",
   "metadata": {},
   "source": [
    "Podemos ver que tenemos una gran cantidad de valores nulos. Esto no es adecuado para entrenar un modelo de clasificación. Por ahora empecemos descartando algunas columnas que pueden afectar de manera negativa el proceso de entrenamiento de un modelo de clasificación. En primero lugar, eliminamos la variable **Discarded/Nurturing Reason** ya que 99.5% son valores nulos por lo que no es una variable que aporte al modelo de clasificación. Debido a que para cada valor de **Id** es un identificador único del cliente no hace falta tener el nombre así que eliminamos **First Name** y nos quedamos unicamente con su **Id**. La variable converted está relacionada con la conversión de un cliente potencial en un cliente real que a su vez está relacionada con la variable objetivo esto podría generar overfitting en el modelo por esto no es conveniente incluirla en los datos de entrenamiento. Además, la variable **Converted** tiene 62% de valores no nulos de los cuales el 99.5% tienen el mismo valor (1.0) por lo que tampoco sería determinante. La variables **Loss Reason** y **Close Date** nos indica el motivo por el cual un potencial cliente desiste de contratar un servicio y la fecha en la que se registra la respuesta del potencial cliente respectivamente, pero esta información no se conoce antes de que el cliente tome una decisión, es decir no puede ser una variable predictora, también generaría overfitting. Por lo tanto, eliminaremos las siguientes 4 columnas."
   ]
  },
  {
   "cell_type": "code",
   "execution_count": 19,
   "metadata": {},
   "outputs": [
    {
     "data": {
      "text/html": [
       "<div>\n",
       "<style scoped>\n",
       "    .dataframe tbody tr th:only-of-type {\n",
       "        vertical-align: middle;\n",
       "    }\n",
       "\n",
       "    .dataframe tbody tr th {\n",
       "        vertical-align: top;\n",
       "    }\n",
       "\n",
       "    .dataframe thead th {\n",
       "        text-align: right;\n",
       "    }\n",
       "</style>\n",
       "<table border=\"1\" class=\"dataframe\">\n",
       "  <thead>\n",
       "    <tr style=\"text-align: right;\">\n",
       "      <th></th>\n",
       "      <th>Id</th>\n",
       "      <th>Source</th>\n",
       "      <th>Status (leads)</th>\n",
       "      <th>Acquisition Campaign</th>\n",
       "      <th>Created Date (leads)</th>\n",
       "      <th>City</th>\n",
       "      <th>Use Case</th>\n",
       "      <th>Status (offers)</th>\n",
       "      <th>Created Date (offers)</th>\n",
       "      <th>Price</th>\n",
       "      <th>Discount code</th>\n",
       "      <th>Pain</th>\n",
       "    </tr>\n",
       "  </thead>\n",
       "  <tbody>\n",
       "    <tr>\n",
       "      <th>0</th>\n",
       "      <td>doqyhjtv</td>\n",
       "      <td>NaN</td>\n",
       "      <td>NaN</td>\n",
       "      <td>NaN</td>\n",
       "      <td>NaT</td>\n",
       "      <td>NaN</td>\n",
       "      <td>Educational Seminars</td>\n",
       "      <td>Closed Won</td>\n",
       "      <td>2019-11-17</td>\n",
       "      <td>300.0</td>\n",
       "      <td>SAVEMORE50</td>\n",
       "      <td>operations</td>\n",
       "    </tr>\n",
       "    <tr>\n",
       "      <th>1</th>\n",
       "      <td>NaN</td>\n",
       "      <td>NaN</td>\n",
       "      <td>NaN</td>\n",
       "      <td>NaN</td>\n",
       "      <td>NaT</td>\n",
       "      <td>NaN</td>\n",
       "      <td>Sports Events</td>\n",
       "      <td>Closed Lost</td>\n",
       "      <td>2019-11-24</td>\n",
       "      <td>150.0</td>\n",
       "      <td>NaN</td>\n",
       "      <td>operations</td>\n",
       "    </tr>\n",
       "    <tr>\n",
       "      <th>2</th>\n",
       "      <td>NaN</td>\n",
       "      <td>NaN</td>\n",
       "      <td>NaN</td>\n",
       "      <td>NaN</td>\n",
       "      <td>NaT</td>\n",
       "      <td>NaN</td>\n",
       "      <td>Sports Events</td>\n",
       "      <td>Closed Lost</td>\n",
       "      <td>2019-11-24</td>\n",
       "      <td>768.0</td>\n",
       "      <td>HALFYEAR20G</td>\n",
       "      <td>operations</td>\n",
       "    </tr>\n",
       "    <tr>\n",
       "      <th>3</th>\n",
       "      <td>cturqi48</td>\n",
       "      <td>Inbound</td>\n",
       "      <td>Qualified</td>\n",
       "      <td>VirtualMeetups</td>\n",
       "      <td>2019-05-07</td>\n",
       "      <td>San Diego</td>\n",
       "      <td>Corporate Events</td>\n",
       "      <td>Closed Won</td>\n",
       "      <td>2019-05-07</td>\n",
       "      <td>240.0</td>\n",
       "      <td>DISCOUNT50POWER</td>\n",
       "      <td>financial control</td>\n",
       "    </tr>\n",
       "    <tr>\n",
       "      <th>4</th>\n",
       "      <td>NaN</td>\n",
       "      <td>NaN</td>\n",
       "      <td>NaN</td>\n",
       "      <td>NaN</td>\n",
       "      <td>NaT</td>\n",
       "      <td>NaN</td>\n",
       "      <td>Sports Events</td>\n",
       "      <td>Closed Lost</td>\n",
       "      <td>2019-11-17</td>\n",
       "      <td>240.0</td>\n",
       "      <td>SAVEMONTH50G</td>\n",
       "      <td>financial control</td>\n",
       "    </tr>\n",
       "  </tbody>\n",
       "</table>\n",
       "</div>"
      ],
      "text/plain": [
       "         Id   Source Status (leads) Acquisition Campaign Created Date (leads)  \\\n",
       "0  doqyhjtv      NaN            NaN                  NaN                  NaT   \n",
       "1       NaN      NaN            NaN                  NaN                  NaT   \n",
       "2       NaN      NaN            NaN                  NaN                  NaT   \n",
       "3  cturqi48  Inbound      Qualified       VirtualMeetups           2019-05-07   \n",
       "4       NaN      NaN            NaN                  NaN                  NaT   \n",
       "\n",
       "        City              Use Case Status (offers) Created Date (offers)  \\\n",
       "0        NaN  Educational Seminars      Closed Won            2019-11-17   \n",
       "1        NaN         Sports Events     Closed Lost            2019-11-24   \n",
       "2        NaN         Sports Events     Closed Lost            2019-11-24   \n",
       "3  San Diego      Corporate Events      Closed Won            2019-05-07   \n",
       "4        NaN         Sports Events     Closed Lost            2019-11-17   \n",
       "\n",
       "   Price    Discount code               Pain  \n",
       "0  300.0       SAVEMORE50         operations  \n",
       "1  150.0              NaN         operations  \n",
       "2  768.0      HALFYEAR20G         operations  \n",
       "3  240.0  DISCOUNT50POWER  financial control  \n",
       "4  240.0     SAVEMONTH50G  financial control  "
      ]
     },
     "execution_count": 19,
     "metadata": {},
     "output_type": "execute_result"
    }
   ],
   "source": [
    "df_merged.drop(columns=[\n",
    "    'Discarded/Nurturing Reason',\n",
    "    'First Name',\n",
    "    'Loss Reason',\n",
    "    'Converted',\n",
    "    'Close Date'\n",
    "], axis=1, inplace=True)\n",
    "df_merged.head()"
   ]
  },
  {
   "cell_type": "markdown",
   "metadata": {},
   "source": [
    "La variable **Price** contiene cerca de un 6% de valores nulos así que puede ser buena idea llenarlos con el valor de algun estadístico teniendo en cuenta el resto de los datos."
   ]
  },
  {
   "cell_type": "code",
   "execution_count": 20,
   "metadata": {},
   "outputs": [
    {
     "name": "stdout",
     "output_type": "stream",
     "text": [
      "Precio\n",
      "Mediana:  360.0\n",
      "Media:  1304.7539503386004\n"
     ]
    },
    {
     "data": {
      "image/png": "[encoded data removed]",
      "text/plain": [
       "<Figure size 640x480 with 1 Axes>"
      ]
     },
     "metadata": {},
     "output_type": "display_data"
    }
   ],
   "source": [
    "print('Precio')\n",
    "print('Mediana: ', df_merged['Price'].median())\n",
    "print('Media: ', df_merged['Price'].mean())\n",
    "p95 = np.percentile(df_merged['Price'].dropna(), 95)\n",
    "df_merged[df_merged['Price']<p95]['Price'].hist()\n",
    "plt.show()"
   ]
  },
  {
   "cell_type": "markdown",
   "metadata": {},
   "source": [
    "Como vemos que la distribución está sesgada a la derecha optamos por reemplazar estos nulo por la mediana de la distribución del precio."
   ]
  },
  {
   "cell_type": "code",
   "execution_count": 21,
   "metadata": {},
   "outputs": [],
   "source": [
    "df_merged['Price'] = df_merged['Price'].fillna(df_merged['Price'].median())"
   ]
  },
  {
   "cell_type": "code",
   "execution_count": 22,
   "metadata": {},
   "outputs": [
    {
     "data": {
      "text/plain": [
       "Discount code\n",
       "2SEMESTERS20OFF     553\n",
       "MONTHSAVE25DEAL     334\n",
       "MONTH50REBATE       293\n",
       "HALFYEAR20G         272\n",
       "SAVE25LESS          264\n",
       "                   ... \n",
       "MATCH75GIFT           1\n",
       "RENEW60SEASON         1\n",
       "BARGAIN50MONTHLY      1\n",
       "BUDGET50SALE          1\n",
       "ANNUAL60SPECIAL       1\n",
       "Name: count, Length: 112, dtype: int64"
      ]
     },
     "execution_count": 22,
     "metadata": {},
     "output_type": "execute_result"
    }
   ],
   "source": [
    "df_merged['Discount code'].value_counts()"
   ]
  },
  {
   "cell_type": "markdown",
   "metadata": {},
   "source": [
    "La columna 'Discount code' nos indica un descuento, existen muchos codigos de descuento repetidos, si cada código de descuento estuviera asociado a algún vendedor podríamos considerar cada código como una variable relevante en la predicción pero en este caso no tenemos conocimiento de esto así que por ahora crearemos una variable booleana que nos indique si el registro cuenta con un código de descuento."
   ]
  },
  {
   "cell_type": "code",
   "execution_count": 23,
   "metadata": {},
   "outputs": [
    {
     "data": {
      "text/html": [
       "<div>\n",
       "<style scoped>\n",
       "    .dataframe tbody tr th:only-of-type {\n",
       "        vertical-align: middle;\n",
       "    }\n",
       "\n",
       "    .dataframe tbody tr th {\n",
       "        vertical-align: top;\n",
       "    }\n",
       "\n",
       "    .dataframe thead th {\n",
       "        text-align: right;\n",
       "    }\n",
       "</style>\n",
       "<table border=\"1\" class=\"dataframe\">\n",
       "  <thead>\n",
       "    <tr style=\"text-align: right;\">\n",
       "      <th></th>\n",
       "      <th>Id</th>\n",
       "      <th>Source</th>\n",
       "      <th>Status (leads)</th>\n",
       "      <th>Acquisition Campaign</th>\n",
       "      <th>Created Date (leads)</th>\n",
       "      <th>City</th>\n",
       "      <th>Use Case</th>\n",
       "      <th>Status (offers)</th>\n",
       "      <th>Created Date (offers)</th>\n",
       "      <th>Price</th>\n",
       "      <th>Pain</th>\n",
       "      <th>Has_discount_code</th>\n",
       "    </tr>\n",
       "  </thead>\n",
       "  <tbody>\n",
       "    <tr>\n",
       "      <th>0</th>\n",
       "      <td>doqyhjtv</td>\n",
       "      <td>NaN</td>\n",
       "      <td>NaN</td>\n",
       "      <td>NaN</td>\n",
       "      <td>NaT</td>\n",
       "      <td>NaN</td>\n",
       "      <td>Educational Seminars</td>\n",
       "      <td>Closed Won</td>\n",
       "      <td>2019-11-17</td>\n",
       "      <td>300.0</td>\n",
       "      <td>operations</td>\n",
       "      <td>True</td>\n",
       "    </tr>\n",
       "    <tr>\n",
       "      <th>1</th>\n",
       "      <td>NaN</td>\n",
       "      <td>NaN</td>\n",
       "      <td>NaN</td>\n",
       "      <td>NaN</td>\n",
       "      <td>NaT</td>\n",
       "      <td>NaN</td>\n",
       "      <td>Sports Events</td>\n",
       "      <td>Closed Lost</td>\n",
       "      <td>2019-11-24</td>\n",
       "      <td>150.0</td>\n",
       "      <td>operations</td>\n",
       "      <td>False</td>\n",
       "    </tr>\n",
       "    <tr>\n",
       "      <th>2</th>\n",
       "      <td>NaN</td>\n",
       "      <td>NaN</td>\n",
       "      <td>NaN</td>\n",
       "      <td>NaN</td>\n",
       "      <td>NaT</td>\n",
       "      <td>NaN</td>\n",
       "      <td>Sports Events</td>\n",
       "      <td>Closed Lost</td>\n",
       "      <td>2019-11-24</td>\n",
       "      <td>768.0</td>\n",
       "      <td>operations</td>\n",
       "      <td>True</td>\n",
       "    </tr>\n",
       "    <tr>\n",
       "      <th>3</th>\n",
       "      <td>cturqi48</td>\n",
       "      <td>Inbound</td>\n",
       "      <td>Qualified</td>\n",
       "      <td>VirtualMeetups</td>\n",
       "      <td>2019-05-07</td>\n",
       "      <td>San Diego</td>\n",
       "      <td>Corporate Events</td>\n",
       "      <td>Closed Won</td>\n",
       "      <td>2019-05-07</td>\n",
       "      <td>240.0</td>\n",
       "      <td>financial control</td>\n",
       "      <td>True</td>\n",
       "    </tr>\n",
       "    <tr>\n",
       "      <th>4</th>\n",
       "      <td>NaN</td>\n",
       "      <td>NaN</td>\n",
       "      <td>NaN</td>\n",
       "      <td>NaN</td>\n",
       "      <td>NaT</td>\n",
       "      <td>NaN</td>\n",
       "      <td>Sports Events</td>\n",
       "      <td>Closed Lost</td>\n",
       "      <td>2019-11-17</td>\n",
       "      <td>240.0</td>\n",
       "      <td>financial control</td>\n",
       "      <td>True</td>\n",
       "    </tr>\n",
       "  </tbody>\n",
       "</table>\n",
       "</div>"
      ],
      "text/plain": [
       "         Id   Source Status (leads) Acquisition Campaign Created Date (leads)  \\\n",
       "0  doqyhjtv      NaN            NaN                  NaN                  NaT   \n",
       "1       NaN      NaN            NaN                  NaN                  NaT   \n",
       "2       NaN      NaN            NaN                  NaN                  NaT   \n",
       "3  cturqi48  Inbound      Qualified       VirtualMeetups           2019-05-07   \n",
       "4       NaN      NaN            NaN                  NaN                  NaT   \n",
       "\n",
       "        City              Use Case Status (offers) Created Date (offers)  \\\n",
       "0        NaN  Educational Seminars      Closed Won            2019-11-17   \n",
       "1        NaN         Sports Events     Closed Lost            2019-11-24   \n",
       "2        NaN         Sports Events     Closed Lost            2019-11-24   \n",
       "3  San Diego      Corporate Events      Closed Won            2019-05-07   \n",
       "4        NaN         Sports Events     Closed Lost            2019-11-17   \n",
       "\n",
       "   Price               Pain  Has_discount_code  \n",
       "0  300.0         operations               True  \n",
       "1  150.0         operations              False  \n",
       "2  768.0         operations               True  \n",
       "3  240.0  financial control               True  \n",
       "4  240.0  financial control               True  "
      ]
     },
     "execution_count": 23,
     "metadata": {},
     "output_type": "execute_result"
    }
   ],
   "source": [
    "df_merged['Has_discount_code'] = ~df_merged['Discount code'].isnull()\n",
    "df_merged.drop('Discount code', axis=1, inplace=True)\n",
    "df_merged.head()"
   ]
  },
  {
   "cell_type": "markdown",
   "metadata": {},
   "source": [
    "Tenemos 38% de registros que no cuentan con información que provenga de la tabla leads, por lo que será importante que el modelo tenga esto en cuenta así que creamos una variable booleana que nos indique si dicho cliente se encontró o no en la tabla leads."
   ]
  },
  {
   "cell_type": "code",
   "execution_count": 24,
   "metadata": {},
   "outputs": [],
   "source": [
    "df_merged['Is_in_leads'] = offers_df['Id'].isin(leads_df['Id'])"
   ]
  },
  {
   "cell_type": "markdown",
   "metadata": {},
   "source": [
    "Revisamos nuevamente porcentaje de nulos por columna"
   ]
  },
  {
   "cell_type": "code",
   "execution_count": 25,
   "metadata": {},
   "outputs": [
    {
     "data": {
      "text/plain": [
       "Id                       19.056172\n",
       "Source                   37.998040\n",
       "Status (leads)           37.965382\n",
       "Acquisition Campaign     82.984977\n",
       "Created Date (leads)     37.965382\n",
       "City                     58.866754\n",
       "Use Case                  0.604180\n",
       "Status (offers)           0.000000\n",
       "Created Date (offers)     0.000000\n",
       "Price                     0.000000\n",
       "Pain                     14.190072\n",
       "Has_discount_code         0.000000\n",
       "Is_in_leads               0.000000\n",
       "dtype: float64"
      ]
     },
     "execution_count": 25,
     "metadata": {},
     "output_type": "execute_result"
    }
   ],
   "source": [
    "df_merged.isnull().sum()/len(df_merged)*100"
   ]
  },
  {
   "cell_type": "markdown",
   "metadata": {},
   "source": [
    "#### Ahora revisaremos los posibles valores de las variables categóricas que aun contienen nulos"
   ]
  },
  {
   "cell_type": "code",
   "execution_count": 26,
   "metadata": {},
   "outputs": [
    {
     "data": {
      "text/plain": [
       "Source\n",
       "Inbound             43.125408\n",
       "Outbound            18.876551\n",
       "Bot-Intercom         0.000000\n",
       "Intercom             0.000000\n",
       "Llamada entrante     0.000000\n",
       "Mail                 0.000000\n",
       "Name: count, dtype: float64"
      ]
     },
     "execution_count": 26,
     "metadata": {},
     "output_type": "execute_result"
    }
   ],
   "source": [
    "df_merged['Source'].value_counts()/len(df_merged)*100"
   ]
  },
  {
   "cell_type": "code",
   "execution_count": 27,
   "metadata": {},
   "outputs": [
    {
     "data": {
      "text/plain": [
       "Status (leads)\n",
       "Qualified    61.724363\n",
       "Discarded     0.146963\n",
       "Nurturing     0.097975\n",
       "Meeting       0.048988\n",
       "New           0.016329\n",
       "Call          0.000000\n",
       "Called        0.000000\n",
       "Contacted     0.000000\n",
       "Email         0.000000\n",
       "Engaged       0.000000\n",
       "Linkedin      0.000000\n",
       "Recicled      0.000000\n",
       "Name: count, dtype: float64"
      ]
     },
     "execution_count": 27,
     "metadata": {},
     "output_type": "execute_result"
    }
   ],
   "source": [
    "df_merged['Status (leads)'].value_counts()/len(df_merged)*100"
   ]
  },
  {
   "cell_type": "code",
   "execution_count": 28,
   "metadata": {},
   "outputs": [
    {
     "data": {
      "text/plain": [
       "City\n",
       "Chicago          10.679295\n",
       "San Francisco     6.939909\n",
       "San Diego         2.955585\n",
       "Jacksonville      2.580013\n",
       "Washington        1.567603\n",
       "Indianapolis      1.518615\n",
       "San Jose          1.420640\n",
       "San Antonio       1.355323\n",
       "Seattle           1.338994\n",
       "New York          1.322665\n",
       "Columbus          1.306336\n",
       "Charlotte         1.192031\n",
       "Denver            1.143044\n",
       "Austin            0.996081\n",
       "Phoenix           0.947093\n",
       "Los Angeles       0.914435\n",
       "Dallas            0.816460\n",
       "Houston           0.783801\n",
       "Philadelphia      0.718485\n",
       "Fort Worth        0.636839\n",
       "Name: count, dtype: float64"
      ]
     },
     "execution_count": 28,
     "metadata": {},
     "output_type": "execute_result"
    }
   ],
   "source": [
    "df_merged['City'].value_counts()/len(df_merged)*100"
   ]
  },
  {
   "cell_type": "code",
   "execution_count": 29,
   "metadata": {},
   "outputs": [
    {
     "data": {
      "text/plain": [
       "Use Case\n",
       "Corporate Events          56.907250\n",
       "Educational Seminars      21.848465\n",
       "Sports Events             16.688439\n",
       "Wedding Planning           3.919007\n",
       "Concerts and festivals     0.032658\n",
       "Name: count, dtype: float64"
      ]
     },
     "execution_count": 29,
     "metadata": {},
     "output_type": "execute_result"
    }
   ],
   "source": [
    "df_merged['Use Case'].value_counts()/len(df_merged)*100"
   ]
  },
  {
   "cell_type": "code",
   "execution_count": 30,
   "metadata": {},
   "outputs": [
    {
     "data": {
      "text/plain": [
       "Pain\n",
       "operations             54.065970\n",
       "financial control      19.529719\n",
       "quality of delivery    11.038537\n",
       "time saving             1.175702\n",
       "Name: count, dtype: float64"
      ]
     },
     "execution_count": 30,
     "metadata": {},
     "output_type": "execute_result"
    }
   ],
   "source": [
    "df_merged['Pain'].value_counts()/len(df_merged)*100"
   ]
  },
  {
   "cell_type": "code",
   "execution_count": 31,
   "metadata": {},
   "outputs": [
    {
     "data": {
      "text/plain": [
       "Created Date (leads)\n",
       "2019-11-09    0.359242\n",
       "2019-06-23    0.293926\n",
       "2019-02-06    0.293926\n",
       "2018-09-23    0.277596\n",
       "2020-01-27    0.277596\n",
       "                ...   \n",
       "2018-05-07    0.016329\n",
       "2018-09-15    0.016329\n",
       "2018-08-23    0.016329\n",
       "2019-05-16    0.016329\n",
       "2019-03-23    0.016329\n",
       "Name: count, Length: 569, dtype: float64"
      ]
     },
     "execution_count": 31,
     "metadata": {},
     "output_type": "execute_result"
    }
   ],
   "source": [
    "df_merged['Created Date (leads)'].value_counts()/len(df_merged)*100"
   ]
  },
  {
   "cell_type": "markdown",
   "metadata": {},
   "source": [
    "Ahora reemplazaremos los nulos del resto de las columnas con el valor 'N/A'"
   ]
  },
  {
   "cell_type": "code",
   "execution_count": 32,
   "metadata": {},
   "outputs": [],
   "source": [
    "columnas = ['Status (offers)', 'Status (leads)', 'Source', 'Use Case', 'Pain', 'Acquisition Campaign', 'City']\n",
    "for i in columnas:\n",
    "    df_merged[i] = df_merged[i].cat.add_categories(['N/A'])\n",
    "    df_merged[i] = df_merged[i].fillna('N/A')"
   ]
  },
  {
   "cell_type": "markdown",
   "metadata": {},
   "source": [
    "Verificamos de la columna Id's cuantos id existen duplicados."
   ]
  },
  {
   "cell_type": "code",
   "execution_count": 33,
   "metadata": {},
   "outputs": [
    {
     "data": {
      "text/plain": [
       "count\n",
       "False    4885\n",
       "True       35\n",
       "Name: count, dtype: int64"
      ]
     },
     "execution_count": 33,
     "metadata": {},
     "output_type": "execute_result"
    }
   ],
   "source": [
    "(df_merged['Id'].value_counts()>1).value_counts()"
   ]
  },
  {
   "cell_type": "markdown",
   "metadata": {},
   "source": [
    "Debido a que se quiere entrenar un modelo de predicción de convertibilidad de un cliente potencial, los datos con **Id's** estarían sesgados ya fueron potenciales clientes en otro momento. Conservaremos unicamente aquellos con la fecha de creación más antigua."
   ]
  },
  {
   "cell_type": "code",
   "execution_count": 34,
   "metadata": {},
   "outputs": [],
   "source": [
    "# Ordenar el DataFrame por 'id' y 'fecha'\n",
    "df_merged = df_merged.sort_values(by=['Id', 'Created Date (offers)'])\n",
    "\n",
    "# Eliminar duplicados, manteniendo solo la fila con la fecha más antigua para cada 'id'\n",
    "df_merged = df_merged.drop_duplicates(subset='Id', keep='first')\n"
   ]
  },
  {
   "cell_type": "markdown",
   "metadata": {},
   "source": [
    "La única variable que aun contiene nulos es Created Date (leads)"
   ]
  },
  {
   "cell_type": "code",
   "execution_count": 35,
   "metadata": {},
   "outputs": [
    {
     "data": {
      "text/html": [
       "<div>\n",
       "<style scoped>\n",
       "    .dataframe tbody tr th:only-of-type {\n",
       "        vertical-align: middle;\n",
       "    }\n",
       "\n",
       "    .dataframe tbody tr th {\n",
       "        vertical-align: top;\n",
       "    }\n",
       "\n",
       "    .dataframe thead th {\n",
       "        text-align: right;\n",
       "    }\n",
       "</style>\n",
       "<table border=\"1\" class=\"dataframe\">\n",
       "  <thead>\n",
       "    <tr style=\"text-align: right;\">\n",
       "      <th></th>\n",
       "      <th>Created Date (leads)</th>\n",
       "      <th>Created Date (offers)</th>\n",
       "    </tr>\n",
       "  </thead>\n",
       "  <tbody>\n",
       "    <tr>\n",
       "      <th>2432</th>\n",
       "      <td>2019-04-02</td>\n",
       "      <td>2019-08-21</td>\n",
       "    </tr>\n",
       "    <tr>\n",
       "      <th>2954</th>\n",
       "      <td>2019-07-05</td>\n",
       "      <td>2019-07-05</td>\n",
       "    </tr>\n",
       "    <tr>\n",
       "      <th>5236</th>\n",
       "      <td>2019-03-13</td>\n",
       "      <td>2019-03-16</td>\n",
       "    </tr>\n",
       "    <tr>\n",
       "      <th>2998</th>\n",
       "      <td>2019-03-06</td>\n",
       "      <td>2019-04-06</td>\n",
       "    </tr>\n",
       "    <tr>\n",
       "      <th>3383</th>\n",
       "      <td>2019-02-10</td>\n",
       "      <td>2019-02-10</td>\n",
       "    </tr>\n",
       "    <tr>\n",
       "      <th>...</th>\n",
       "      <td>...</td>\n",
       "      <td>...</td>\n",
       "    </tr>\n",
       "    <tr>\n",
       "      <th>5599</th>\n",
       "      <td>NaT</td>\n",
       "      <td>2019-08-31</td>\n",
       "    </tr>\n",
       "    <tr>\n",
       "      <th>4425</th>\n",
       "      <td>2018-07-06</td>\n",
       "      <td>2018-11-06</td>\n",
       "    </tr>\n",
       "    <tr>\n",
       "      <th>1784</th>\n",
       "      <td>2019-02-02</td>\n",
       "      <td>2019-11-02</td>\n",
       "    </tr>\n",
       "    <tr>\n",
       "      <th>1453</th>\n",
       "      <td>2018-03-03</td>\n",
       "      <td>2018-05-03</td>\n",
       "    </tr>\n",
       "    <tr>\n",
       "      <th>1204</th>\n",
       "      <td>NaT</td>\n",
       "      <td>2018-01-02</td>\n",
       "    </tr>\n",
       "  </tbody>\n",
       "</table>\n",
       "<p>4921 rows × 2 columns</p>\n",
       "</div>"
      ],
      "text/plain": [
       "     Created Date (leads) Created Date (offers)\n",
       "2432           2019-04-02            2019-08-21\n",
       "2954           2019-07-05            2019-07-05\n",
       "5236           2019-03-13            2019-03-16\n",
       "2998           2019-03-06            2019-04-06\n",
       "3383           2019-02-10            2019-02-10\n",
       "...                   ...                   ...\n",
       "5599                  NaT            2019-08-31\n",
       "4425           2018-07-06            2018-11-06\n",
       "1784           2019-02-02            2019-11-02\n",
       "1453           2018-03-03            2018-05-03\n",
       "1204                  NaT            2018-01-02\n",
       "\n",
       "[4921 rows x 2 columns]"
      ]
     },
     "execution_count": 35,
     "metadata": {},
     "output_type": "execute_result"
    }
   ],
   "source": [
    "df_merged[['Created Date (leads)', 'Created Date (offers)']]"
   ]
  },
  {
   "cell_type": "markdown",
   "metadata": {},
   "source": [
    "Ahora vamos a convertir todas las fechas en días en donde utilizaremos la fecha del registro más antiguo de cada columna como punto de referencia. Además veremos la correlación que hay entre las variables **Created Date (leads)** y **Created Date (offers)** para revisar si es factible imputar valores a partir de una regresión."
   ]
  },
  {
   "cell_type": "code",
   "execution_count": 36,
   "metadata": {},
   "outputs": [
    {
     "name": "stdout",
     "output_type": "stream",
     "text": [
      "                     created_days_leads  created_days_offers\n",
      "created_days_leads             1.000000             0.877038\n",
      "created_days_offers            0.877038             1.000000\n"
     ]
    },
    {
     "data": {
      "image/png": "[encoded data removed]",
      "text/plain": [
       "<Figure size 640x480 with 1 Axes>"
      ]
     },
     "metadata": {},
     "output_type": "display_data"
    }
   ],
   "source": [
    "df_merged['created_days_leads'] = (df_merged['Created Date (leads)'] - pd.Timestamp('1970-01-01')).dt.days\n",
    "df_merged['created_days_offers'] = (df_merged['Created Date (offers)'] - pd.Timestamp('1970-01-01')).dt.days\n",
    "df_merged['created_days_leads'] = df_merged['created_days_leads'] - df_merged['created_days_leads'].min()\n",
    "df_merged['created_days_offers'] = df_merged['created_days_offers'] - df_merged['created_days_offers'].min()\n",
    "\n",
    "df_merged = df_merged.drop(columns=['Created Date (offers)', 'Created Date (leads)'], axis=1)\n",
    "# Calcular la correlación\n",
    "correlacion = df_merged[['created_days_leads', 'created_days_offers']].corr()\n",
    "print(correlacion)\n",
    "\n",
    "# Crear un scatter plot con Seaborn\n",
    "sns.scatterplot(x='created_days_leads', y='created_days_offers', hue='Has_discount_code', data=df_merged)\n",
    "\n",
    "# Personalizar el gráfico\n",
    "plt.title('Scatter Plot de Diferencia en Días')\n",
    "plt.xlabel('Created Date (leads) (days)')\n",
    "plt.ylabel('Created Date (offers) (days)')\n",
    "\n",
    "# Mostrar el gráfico\n",
    "plt.show()"
   ]
  },
  {
   "cell_type": "markdown",
   "metadata": {},
   "source": [
    "Aunque la la correlación es positiva no es adecueado imputar nulos con una regresión ya que no se tiene un relación lineal entre las dos variables, asi que optaremos por reemplazar la variable días por un valor negativo lejano al valor mínimo."
   ]
  },
  {
   "cell_type": "code",
   "execution_count": 37,
   "metadata": {},
   "outputs": [],
   "source": [
    "df_merged['created_days_leads'] = df_merged['created_days_leads'].fillna(-1000)"
   ]
  },
  {
   "cell_type": "markdown",
   "metadata": {},
   "source": [
    "Creamos una función que convierta todas las variables categoricas en variables numéricas utilizando el codigo de cada categoría."
   ]
  },
  {
   "cell_type": "code",
   "execution_count": 38,
   "metadata": {},
   "outputs": [],
   "source": [
    "def replace_categorical_with_codes(df):\n",
    "    \"\"\"\n",
    "    Reemplaza todas las columnas de variables categóricas por columnas con los códigos\n",
    "    correspondientes de las variables categóricas.\n",
    "\n",
    "    Parameters:\n",
    "    - df: DataFrame, el DataFrame original con variables categóricas.\n",
    "\n",
    "    Returns:\n",
    "    - df_with_codes: DataFrame, el DataFrame modificado con columnas de códigos en lugar de variables categóricas.\n",
    "    \"\"\"\n",
    "    df_with_codes = df.copy()\n",
    "\n",
    "    for column in df.select_dtypes(include='category').columns:\n",
    "        # Reemplazar la columna categórica con sus códigos correspondientes\n",
    "        df_with_codes[column] = df[column].cat.codes\n",
    "\n",
    "    return df_with_codes"
   ]
  },
  {
   "cell_type": "code",
   "execution_count": 39,
   "metadata": {},
   "outputs": [],
   "source": [
    "df_predictors = replace_categorical_with_codes(df_merged)"
   ]
  },
  {
   "cell_type": "markdown",
   "metadata": {},
   "source": [
    "Por último dejaremos únicamente dos fechas, **created_days_leads** y la diferencia de dias entre las dos fechas de creación."
   ]
  },
  {
   "cell_type": "code",
   "execution_count": 40,
   "metadata": {},
   "outputs": [
    {
     "data": {
      "text/html": [
       "<div>\n",
       "<style scoped>\n",
       "    .dataframe tbody tr th:only-of-type {\n",
       "        vertical-align: middle;\n",
       "    }\n",
       "\n",
       "    .dataframe tbody tr th {\n",
       "        vertical-align: top;\n",
       "    }\n",
       "\n",
       "    .dataframe thead th {\n",
       "        text-align: right;\n",
       "    }\n",
       "</style>\n",
       "<table border=\"1\" class=\"dataframe\">\n",
       "  <thead>\n",
       "    <tr style=\"text-align: right;\">\n",
       "      <th></th>\n",
       "      <th>Id</th>\n",
       "      <th>Source</th>\n",
       "      <th>Status (leads)</th>\n",
       "      <th>Acquisition Campaign</th>\n",
       "      <th>City</th>\n",
       "      <th>Use Case</th>\n",
       "      <th>Status (offers)</th>\n",
       "      <th>Price</th>\n",
       "      <th>Pain</th>\n",
       "      <th>Has_discount_code</th>\n",
       "      <th>Is_in_leads</th>\n",
       "      <th>created_days_leads</th>\n",
       "      <th>created_days_offers</th>\n",
       "      <th>days_difference</th>\n",
       "    </tr>\n",
       "  </thead>\n",
       "  <tbody>\n",
       "    <tr>\n",
       "      <th>2432</th>\n",
       "      <td>004plaq7</td>\n",
       "      <td>1</td>\n",
       "      <td>10</td>\n",
       "      <td>71</td>\n",
       "      <td>20</td>\n",
       "      <td>3</td>\n",
       "      <td>1</td>\n",
       "      <td>0.0</td>\n",
       "      <td>1</td>\n",
       "      <td>0</td>\n",
       "      <td>1</td>\n",
       "      <td>456.0</td>\n",
       "      <td>597</td>\n",
       "      <td>141.0</td>\n",
       "    </tr>\n",
       "    <tr>\n",
       "      <th>2954</th>\n",
       "      <td>006hvqrh</td>\n",
       "      <td>1</td>\n",
       "      <td>10</td>\n",
       "      <td>5</td>\n",
       "      <td>20</td>\n",
       "      <td>1</td>\n",
       "      <td>1</td>\n",
       "      <td>240.0</td>\n",
       "      <td>1</td>\n",
       "      <td>1</td>\n",
       "      <td>1</td>\n",
       "      <td>550.0</td>\n",
       "      <td>550</td>\n",
       "      <td>0.0</td>\n",
       "    </tr>\n",
       "    <tr>\n",
       "      <th>5236</th>\n",
       "      <td>00dsslbf</td>\n",
       "      <td>1</td>\n",
       "      <td>10</td>\n",
       "      <td>71</td>\n",
       "      <td>20</td>\n",
       "      <td>2</td>\n",
       "      <td>1</td>\n",
       "      <td>768.0</td>\n",
       "      <td>4</td>\n",
       "      <td>1</td>\n",
       "      <td>1</td>\n",
       "      <td>436.0</td>\n",
       "      <td>439</td>\n",
       "      <td>3.0</td>\n",
       "    </tr>\n",
       "    <tr>\n",
       "      <th>2998</th>\n",
       "      <td>00ik2lit</td>\n",
       "      <td>1</td>\n",
       "      <td>10</td>\n",
       "      <td>65</td>\n",
       "      <td>20</td>\n",
       "      <td>1</td>\n",
       "      <td>2</td>\n",
       "      <td>360.0</td>\n",
       "      <td>0</td>\n",
       "      <td>1</td>\n",
       "      <td>1</td>\n",
       "      <td>429.0</td>\n",
       "      <td>460</td>\n",
       "      <td>31.0</td>\n",
       "    </tr>\n",
       "    <tr>\n",
       "      <th>3383</th>\n",
       "      <td>00m6eiel</td>\n",
       "      <td>1</td>\n",
       "      <td>10</td>\n",
       "      <td>71</td>\n",
       "      <td>20</td>\n",
       "      <td>1</td>\n",
       "      <td>2</td>\n",
       "      <td>240.0</td>\n",
       "      <td>4</td>\n",
       "      <td>1</td>\n",
       "      <td>1</td>\n",
       "      <td>405.0</td>\n",
       "      <td>405</td>\n",
       "      <td>0.0</td>\n",
       "    </tr>\n",
       "    <tr>\n",
       "      <th>...</th>\n",
       "      <td>...</td>\n",
       "      <td>...</td>\n",
       "      <td>...</td>\n",
       "      <td>...</td>\n",
       "      <td>...</td>\n",
       "      <td>...</td>\n",
       "      <td>...</td>\n",
       "      <td>...</td>\n",
       "      <td>...</td>\n",
       "      <td>...</td>\n",
       "      <td>...</td>\n",
       "      <td>...</td>\n",
       "      <td>...</td>\n",
       "      <td>...</td>\n",
       "    </tr>\n",
       "    <tr>\n",
       "      <th>5599</th>\n",
       "      <td>zzbvnkgd</td>\n",
       "      <td>6</td>\n",
       "      <td>12</td>\n",
       "      <td>71</td>\n",
       "      <td>20</td>\n",
       "      <td>1</td>\n",
       "      <td>2</td>\n",
       "      <td>768.0</td>\n",
       "      <td>1</td>\n",
       "      <td>1</td>\n",
       "      <td>0</td>\n",
       "      <td>-1000.0</td>\n",
       "      <td>607</td>\n",
       "      <td>1607.0</td>\n",
       "    </tr>\n",
       "    <tr>\n",
       "      <th>4425</th>\n",
       "      <td>zzc9sbzh</td>\n",
       "      <td>1</td>\n",
       "      <td>10</td>\n",
       "      <td>71</td>\n",
       "      <td>20</td>\n",
       "      <td>1</td>\n",
       "      <td>1</td>\n",
       "      <td>324.0</td>\n",
       "      <td>2</td>\n",
       "      <td>1</td>\n",
       "      <td>1</td>\n",
       "      <td>186.0</td>\n",
       "      <td>309</td>\n",
       "      <td>123.0</td>\n",
       "    </tr>\n",
       "    <tr>\n",
       "      <th>1784</th>\n",
       "      <td>zzua9jrh</td>\n",
       "      <td>5</td>\n",
       "      <td>10</td>\n",
       "      <td>71</td>\n",
       "      <td>15</td>\n",
       "      <td>3</td>\n",
       "      <td>2</td>\n",
       "      <td>324.0</td>\n",
       "      <td>1</td>\n",
       "      <td>1</td>\n",
       "      <td>1</td>\n",
       "      <td>397.0</td>\n",
       "      <td>670</td>\n",
       "      <td>273.0</td>\n",
       "    </tr>\n",
       "    <tr>\n",
       "      <th>1453</th>\n",
       "      <td>zzuidn21</td>\n",
       "      <td>5</td>\n",
       "      <td>10</td>\n",
       "      <td>71</td>\n",
       "      <td>20</td>\n",
       "      <td>1</td>\n",
       "      <td>1</td>\n",
       "      <td>600.0</td>\n",
       "      <td>1</td>\n",
       "      <td>0</td>\n",
       "      <td>1</td>\n",
       "      <td>61.0</td>\n",
       "      <td>122</td>\n",
       "      <td>61.0</td>\n",
       "    </tr>\n",
       "    <tr>\n",
       "      <th>1204</th>\n",
       "      <td>NaN</td>\n",
       "      <td>6</td>\n",
       "      <td>12</td>\n",
       "      <td>71</td>\n",
       "      <td>20</td>\n",
       "      <td>3</td>\n",
       "      <td>1</td>\n",
       "      <td>450.0</td>\n",
       "      <td>1</td>\n",
       "      <td>0</td>\n",
       "      <td>0</td>\n",
       "      <td>-1000.0</td>\n",
       "      <td>1</td>\n",
       "      <td>1001.0</td>\n",
       "    </tr>\n",
       "  </tbody>\n",
       "</table>\n",
       "<p>4921 rows × 14 columns</p>\n",
       "</div>"
      ],
      "text/plain": [
       "            Id  Source  Status (leads)  Acquisition Campaign  City  Use Case  \\\n",
       "2432  004plaq7       1              10                    71    20         3   \n",
       "2954  006hvqrh       1              10                     5    20         1   \n",
       "5236  00dsslbf       1              10                    71    20         2   \n",
       "2998  00ik2lit       1              10                    65    20         1   \n",
       "3383  00m6eiel       1              10                    71    20         1   \n",
       "...        ...     ...             ...                   ...   ...       ...   \n",
       "5599  zzbvnkgd       6              12                    71    20         1   \n",
       "4425  zzc9sbzh       1              10                    71    20         1   \n",
       "1784  zzua9jrh       5              10                    71    15         3   \n",
       "1453  zzuidn21       5              10                    71    20         1   \n",
       "1204       NaN       6              12                    71    20         3   \n",
       "\n",
       "      Status (offers)  Price  Pain  Has_discount_code  Is_in_leads  \\\n",
       "2432                1    0.0     1                  0            1   \n",
       "2954                1  240.0     1                  1            1   \n",
       "5236                1  768.0     4                  1            1   \n",
       "2998                2  360.0     0                  1            1   \n",
       "3383                2  240.0     4                  1            1   \n",
       "...               ...    ...   ...                ...          ...   \n",
       "5599                2  768.0     1                  1            0   \n",
       "4425                1  324.0     2                  1            1   \n",
       "1784                2  324.0     1                  1            1   \n",
       "1453                1  600.0     1                  0            1   \n",
       "1204                1  450.0     1                  0            0   \n",
       "\n",
       "      created_days_leads  created_days_offers  days_difference  \n",
       "2432               456.0                  597            141.0  \n",
       "2954               550.0                  550              0.0  \n",
       "5236               436.0                  439              3.0  \n",
       "2998               429.0                  460             31.0  \n",
       "3383               405.0                  405              0.0  \n",
       "...                  ...                  ...              ...  \n",
       "5599             -1000.0                  607           1607.0  \n",
       "4425               186.0                  309            123.0  \n",
       "1784               397.0                  670            273.0  \n",
       "1453                61.0                  122             61.0  \n",
       "1204             -1000.0                    1           1001.0  \n",
       "\n",
       "[4921 rows x 14 columns]"
      ]
     },
     "execution_count": 40,
     "metadata": {},
     "output_type": "execute_result"
    }
   ],
   "source": [
    "df_predictors['Is_in_leads'] = df_predictors['Is_in_leads'].astype(int)\n",
    "df_predictors['Has_discount_code'] = df_predictors['Has_discount_code'].astype(int)\n",
    "df_predictors['days_difference'] = df_predictors['created_days_offers'] - df_predictors['created_days_leads']\n",
    "df_predictors"
   ]
  },
  {
   "cell_type": "code",
   "execution_count": 41,
   "metadata": {},
   "outputs": [],
   "source": [
    "df_merged.to_csv('variables.csv', index=False)\n",
    "df_predictors.to_csv('variables_numeric.csv', index=False)"
   ]
  }
 ],
 "metadata": {
  "kernelspec": {
   "display_name": "testds-8FQR7iPw-py3.10",
   "language": "python",
   "name": "python3"
  },
  "language_info": {
   "codemirror_mode": {
    "name": "ipython",
    "version": 3
   },
   "file_extension": ".py",
   "mimetype": "text/x-python",
   "name": "python",
   "nbconvert_exporter": "python",
   "pygments_lexer": "ipython3",
   "version": "3.10.11"
  }
 },
 "nbformat": 4,
 "nbformat_minor": 2
}
